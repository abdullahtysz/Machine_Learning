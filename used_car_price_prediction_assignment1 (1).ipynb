{
  "nbformat": 4,
  "nbformat_minor": 0,
  "metadata": {
    "kernelspec": {
      "display_name": "Python 3",
      "language": "python",
      "name": "python3"
    },
    "language_info": {
      "codemirror_mode": {
        "name": "ipython",
        "version": 3
      },
      "file_extension": ".py",
      "mimetype": "text/x-python",
      "name": "python",
      "nbconvert_exporter": "python",
      "pygments_lexer": "ipython3",
      "version": "3.8.11"
    },
    "colab": {
      "name": "used_car_price_prediction_assignment1.ipynb",
      "provenance": []
    }
  },
  "cells": [
    {
      "cell_type": "markdown",
      "metadata": {
        "id": "curQqdpMbV8a"
      },
      "source": [
        "<img src=\"https://miro.medium.com/max/647/1*ZOcUPrSXLYucFxppoI-dYg.png\">"
      ]
    },
    {
      "cell_type": "markdown",
      "metadata": {
        "id": "vIdfp9zXbV8w"
      },
      "source": [
        "# Problem definition\n"
      ]
    },
    {
      "cell_type": "markdown",
      "metadata": {
        "id": "_f1vwRmsbV8z"
      },
      "source": [
        "For this project we are using a car dataset, where we want to predict the selling price of car based on its certain features.\n",
        "Since we need to find the real value, with real calculation, therefore this problem is regression problem. \n",
        "We will be using linear regression to solve this problem.\n",
        "\n",
        "General equation of Multiple Linear Regression:\n",
        "$$y = \\beta_0 + \\beta_{1}x_1 + \\beta_{2}x_2 + \\beta_{3}x_3 + \\beta_{4}x_4 + ... + \\beta_{n}x_n$$"
      ]
    },
    {
      "cell_type": "markdown",
      "metadata": {
        "id": "m79bZ3ojbV82"
      },
      "source": [
        "# Libraries"
      ]
    },
    {
      "cell_type": "code",
      "metadata": {
        "id": "zk6tvPRBbV84"
      },
      "source": [
        "\n",
        "import numpy as np\n",
        "import pandas as pd\n",
        "import matplotlib.pyplot as plt\n",
        "import seaborn as sns\n",
        "import scipy.stats as stats\n",
        "plt.rcParams[\"figure.figsize\"] = (10,6)\n",
        "import warnings\n",
        "warnings.filterwarnings('ignore')"
      ],
      "execution_count": 95,
      "outputs": []
    },
    {
      "cell_type": "markdown",
      "metadata": {
        "id": "Zu7fPn5HbV87"
      },
      "source": [
        "# Data Gathering"
      ]
    },
    {
      "cell_type": "code",
      "metadata": {
        "id": "Hgyy7dkrbV89"
      },
      "source": [
        "df = pd.read_csv(\"car_dataset.csv\")"
      ],
      "execution_count": 96,
      "outputs": []
    },
    {
      "cell_type": "markdown",
      "metadata": {
        "id": "EyXAGsjnbV8_"
      },
      "source": [
        "# Data Preparation"
      ]
    },
    {
      "cell_type": "code",
      "metadata": {
        "id": "8OZBoDgTNtcQ",
        "outputId": "427524e5-dd68-416a-b65a-8031fb295d3b",
        "colab": {
          "base_uri": "https://localhost:8080/",
          "height": 398
        }
      },
      "source": [
        "df.T"
      ],
      "execution_count": 97,
      "outputs": [
        {
          "output_type": "execute_result",
          "data": {
            "text/html": [
              "<div>\n",
              "<style scoped>\n",
              "    .dataframe tbody tr th:only-of-type {\n",
              "        vertical-align: middle;\n",
              "    }\n",
              "\n",
              "    .dataframe tbody tr th {\n",
              "        vertical-align: top;\n",
              "    }\n",
              "\n",
              "    .dataframe thead th {\n",
              "        text-align: right;\n",
              "    }\n",
              "</style>\n",
              "<table border=\"1\" class=\"dataframe\">\n",
              "  <thead>\n",
              "    <tr style=\"text-align: right;\">\n",
              "      <th></th>\n",
              "      <th>0</th>\n",
              "      <th>1</th>\n",
              "      <th>2</th>\n",
              "      <th>3</th>\n",
              "      <th>4</th>\n",
              "      <th>5</th>\n",
              "      <th>6</th>\n",
              "      <th>7</th>\n",
              "      <th>8</th>\n",
              "      <th>9</th>\n",
              "      <th>10</th>\n",
              "      <th>11</th>\n",
              "      <th>12</th>\n",
              "      <th>13</th>\n",
              "      <th>14</th>\n",
              "      <th>15</th>\n",
              "      <th>16</th>\n",
              "      <th>17</th>\n",
              "      <th>18</th>\n",
              "      <th>19</th>\n",
              "      <th>20</th>\n",
              "      <th>21</th>\n",
              "      <th>22</th>\n",
              "      <th>23</th>\n",
              "      <th>24</th>\n",
              "      <th>25</th>\n",
              "      <th>26</th>\n",
              "      <th>27</th>\n",
              "      <th>28</th>\n",
              "      <th>29</th>\n",
              "      <th>30</th>\n",
              "      <th>31</th>\n",
              "      <th>32</th>\n",
              "      <th>33</th>\n",
              "      <th>34</th>\n",
              "      <th>35</th>\n",
              "      <th>36</th>\n",
              "      <th>37</th>\n",
              "      <th>38</th>\n",
              "      <th>39</th>\n",
              "      <th>...</th>\n",
              "      <th>261</th>\n",
              "      <th>262</th>\n",
              "      <th>263</th>\n",
              "      <th>264</th>\n",
              "      <th>265</th>\n",
              "      <th>266</th>\n",
              "      <th>267</th>\n",
              "      <th>268</th>\n",
              "      <th>269</th>\n",
              "      <th>270</th>\n",
              "      <th>271</th>\n",
              "      <th>272</th>\n",
              "      <th>273</th>\n",
              "      <th>274</th>\n",
              "      <th>275</th>\n",
              "      <th>276</th>\n",
              "      <th>277</th>\n",
              "      <th>278</th>\n",
              "      <th>279</th>\n",
              "      <th>280</th>\n",
              "      <th>281</th>\n",
              "      <th>282</th>\n",
              "      <th>283</th>\n",
              "      <th>284</th>\n",
              "      <th>285</th>\n",
              "      <th>286</th>\n",
              "      <th>287</th>\n",
              "      <th>288</th>\n",
              "      <th>289</th>\n",
              "      <th>290</th>\n",
              "      <th>291</th>\n",
              "      <th>292</th>\n",
              "      <th>293</th>\n",
              "      <th>294</th>\n",
              "      <th>295</th>\n",
              "      <th>296</th>\n",
              "      <th>297</th>\n",
              "      <th>298</th>\n",
              "      <th>299</th>\n",
              "      <th>300</th>\n",
              "    </tr>\n",
              "  </thead>\n",
              "  <tbody>\n",
              "    <tr>\n",
              "      <th>Car_Name</th>\n",
              "      <td>ritz</td>\n",
              "      <td>sx4</td>\n",
              "      <td>ciaz</td>\n",
              "      <td>wagon r</td>\n",
              "      <td>swift</td>\n",
              "      <td>vitara brezza</td>\n",
              "      <td>ciaz</td>\n",
              "      <td>s cross</td>\n",
              "      <td>ciaz</td>\n",
              "      <td>ciaz</td>\n",
              "      <td>alto 800</td>\n",
              "      <td>ciaz</td>\n",
              "      <td>ciaz</td>\n",
              "      <td>ertiga</td>\n",
              "      <td>dzire</td>\n",
              "      <td>ertiga</td>\n",
              "      <td>ertiga</td>\n",
              "      <td>ertiga</td>\n",
              "      <td>wagon r</td>\n",
              "      <td>sx4</td>\n",
              "      <td>alto k10</td>\n",
              "      <td>ignis</td>\n",
              "      <td>sx4</td>\n",
              "      <td>alto k10</td>\n",
              "      <td>wagon r</td>\n",
              "      <td>swift</td>\n",
              "      <td>swift</td>\n",
              "      <td>swift</td>\n",
              "      <td>alto k10</td>\n",
              "      <td>ciaz</td>\n",
              "      <td>ritz</td>\n",
              "      <td>ritz</td>\n",
              "      <td>swift</td>\n",
              "      <td>ertiga</td>\n",
              "      <td>dzire</td>\n",
              "      <td>sx4</td>\n",
              "      <td>dzire</td>\n",
              "      <td>800</td>\n",
              "      <td>alto k10</td>\n",
              "      <td>sx4</td>\n",
              "      <td>...</td>\n",
              "      <td>brio</td>\n",
              "      <td>amaze</td>\n",
              "      <td>jazz</td>\n",
              "      <td>amaze</td>\n",
              "      <td>jazz</td>\n",
              "      <td>amaze</td>\n",
              "      <td>city</td>\n",
              "      <td>brio</td>\n",
              "      <td>city</td>\n",
              "      <td>city</td>\n",
              "      <td>city</td>\n",
              "      <td>city</td>\n",
              "      <td>jazz</td>\n",
              "      <td>brio</td>\n",
              "      <td>city</td>\n",
              "      <td>city</td>\n",
              "      <td>city</td>\n",
              "      <td>jazz</td>\n",
              "      <td>city</td>\n",
              "      <td>brio</td>\n",
              "      <td>city</td>\n",
              "      <td>city</td>\n",
              "      <td>city</td>\n",
              "      <td>brio</td>\n",
              "      <td>jazz</td>\n",
              "      <td>jazz</td>\n",
              "      <td>amaze</td>\n",
              "      <td>city</td>\n",
              "      <td>city</td>\n",
              "      <td>amaze</td>\n",
              "      <td>brio</td>\n",
              "      <td>jazz</td>\n",
              "      <td>city</td>\n",
              "      <td>amaze</td>\n",
              "      <td>city</td>\n",
              "      <td>city</td>\n",
              "      <td>brio</td>\n",
              "      <td>city</td>\n",
              "      <td>city</td>\n",
              "      <td>brio</td>\n",
              "    </tr>\n",
              "    <tr>\n",
              "      <th>Year</th>\n",
              "      <td>2014</td>\n",
              "      <td>2013</td>\n",
              "      <td>2017</td>\n",
              "      <td>2011</td>\n",
              "      <td>2014</td>\n",
              "      <td>2018</td>\n",
              "      <td>2015</td>\n",
              "      <td>2015</td>\n",
              "      <td>2016</td>\n",
              "      <td>2015</td>\n",
              "      <td>2017</td>\n",
              "      <td>2015</td>\n",
              "      <td>2015</td>\n",
              "      <td>2015</td>\n",
              "      <td>2009</td>\n",
              "      <td>2016</td>\n",
              "      <td>2015</td>\n",
              "      <td>2016</td>\n",
              "      <td>2015</td>\n",
              "      <td>2010</td>\n",
              "      <td>2016</td>\n",
              "      <td>2017</td>\n",
              "      <td>2011</td>\n",
              "      <td>2014</td>\n",
              "      <td>2013</td>\n",
              "      <td>2011</td>\n",
              "      <td>2013</td>\n",
              "      <td>2017</td>\n",
              "      <td>2010</td>\n",
              "      <td>2015</td>\n",
              "      <td>2012</td>\n",
              "      <td>2011</td>\n",
              "      <td>2014</td>\n",
              "      <td>2014</td>\n",
              "      <td>2014</td>\n",
              "      <td>2011</td>\n",
              "      <td>2015</td>\n",
              "      <td>2003</td>\n",
              "      <td>2016</td>\n",
              "      <td>2003</td>\n",
              "      <td>...</td>\n",
              "      <td>2016</td>\n",
              "      <td>2015</td>\n",
              "      <td>2016</td>\n",
              "      <td>2015</td>\n",
              "      <td>2017</td>\n",
              "      <td>2014</td>\n",
              "      <td>2016</td>\n",
              "      <td>2017</td>\n",
              "      <td>2015</td>\n",
              "      <td>2011</td>\n",
              "      <td>2009</td>\n",
              "      <td>2015</td>\n",
              "      <td>2010</td>\n",
              "      <td>2014</td>\n",
              "      <td>2016</td>\n",
              "      <td>2015</td>\n",
              "      <td>2015</td>\n",
              "      <td>2016</td>\n",
              "      <td>2014</td>\n",
              "      <td>2015</td>\n",
              "      <td>2006</td>\n",
              "      <td>2014</td>\n",
              "      <td>2016</td>\n",
              "      <td>2013</td>\n",
              "      <td>2016</td>\n",
              "      <td>2016</td>\n",
              "      <td>2015</td>\n",
              "      <td>2015</td>\n",
              "      <td>2016</td>\n",
              "      <td>2014</td>\n",
              "      <td>2015</td>\n",
              "      <td>2016</td>\n",
              "      <td>2010</td>\n",
              "      <td>2014</td>\n",
              "      <td>2015</td>\n",
              "      <td>2016</td>\n",
              "      <td>2015</td>\n",
              "      <td>2009</td>\n",
              "      <td>2017</td>\n",
              "      <td>2016</td>\n",
              "    </tr>\n",
              "    <tr>\n",
              "      <th>Selling_Price</th>\n",
              "      <td>3.35</td>\n",
              "      <td>4.75</td>\n",
              "      <td>7.25</td>\n",
              "      <td>2.85</td>\n",
              "      <td>4.6</td>\n",
              "      <td>9.25</td>\n",
              "      <td>6.75</td>\n",
              "      <td>6.5</td>\n",
              "      <td>8.75</td>\n",
              "      <td>7.45</td>\n",
              "      <td>2.85</td>\n",
              "      <td>6.85</td>\n",
              "      <td>7.5</td>\n",
              "      <td>6.1</td>\n",
              "      <td>2.25</td>\n",
              "      <td>7.75</td>\n",
              "      <td>7.25</td>\n",
              "      <td>7.75</td>\n",
              "      <td>3.25</td>\n",
              "      <td>2.65</td>\n",
              "      <td>2.85</td>\n",
              "      <td>4.9</td>\n",
              "      <td>4.4</td>\n",
              "      <td>2.5</td>\n",
              "      <td>2.9</td>\n",
              "      <td>3</td>\n",
              "      <td>4.15</td>\n",
              "      <td>6</td>\n",
              "      <td>1.95</td>\n",
              "      <td>7.45</td>\n",
              "      <td>3.1</td>\n",
              "      <td>2.35</td>\n",
              "      <td>4.95</td>\n",
              "      <td>6</td>\n",
              "      <td>5.5</td>\n",
              "      <td>2.95</td>\n",
              "      <td>4.65</td>\n",
              "      <td>0.35</td>\n",
              "      <td>3</td>\n",
              "      <td>2.25</td>\n",
              "      <td>...</td>\n",
              "      <td>5.5</td>\n",
              "      <td>4</td>\n",
              "      <td>6.6</td>\n",
              "      <td>4</td>\n",
              "      <td>6.5</td>\n",
              "      <td>3.65</td>\n",
              "      <td>8.35</td>\n",
              "      <td>4.8</td>\n",
              "      <td>6.7</td>\n",
              "      <td>4.1</td>\n",
              "      <td>3</td>\n",
              "      <td>7.5</td>\n",
              "      <td>2.25</td>\n",
              "      <td>5.3</td>\n",
              "      <td>10.9</td>\n",
              "      <td>8.65</td>\n",
              "      <td>9.7</td>\n",
              "      <td>6</td>\n",
              "      <td>6.25</td>\n",
              "      <td>5.25</td>\n",
              "      <td>2.1</td>\n",
              "      <td>8.25</td>\n",
              "      <td>8.99</td>\n",
              "      <td>3.5</td>\n",
              "      <td>7.4</td>\n",
              "      <td>5.65</td>\n",
              "      <td>5.75</td>\n",
              "      <td>8.4</td>\n",
              "      <td>10.11</td>\n",
              "      <td>4.5</td>\n",
              "      <td>5.4</td>\n",
              "      <td>6.4</td>\n",
              "      <td>3.25</td>\n",
              "      <td>3.75</td>\n",
              "      <td>8.55</td>\n",
              "      <td>9.5</td>\n",
              "      <td>4</td>\n",
              "      <td>3.35</td>\n",
              "      <td>11.5</td>\n",
              "      <td>5.3</td>\n",
              "    </tr>\n",
              "    <tr>\n",
              "      <th>Present_Price</th>\n",
              "      <td>5.59</td>\n",
              "      <td>9.54</td>\n",
              "      <td>9.85</td>\n",
              "      <td>4.15</td>\n",
              "      <td>6.87</td>\n",
              "      <td>9.83</td>\n",
              "      <td>8.12</td>\n",
              "      <td>8.61</td>\n",
              "      <td>8.89</td>\n",
              "      <td>8.92</td>\n",
              "      <td>3.6</td>\n",
              "      <td>10.38</td>\n",
              "      <td>9.94</td>\n",
              "      <td>7.71</td>\n",
              "      <td>7.21</td>\n",
              "      <td>10.79</td>\n",
              "      <td>10.79</td>\n",
              "      <td>10.79</td>\n",
              "      <td>5.09</td>\n",
              "      <td>7.98</td>\n",
              "      <td>3.95</td>\n",
              "      <td>5.71</td>\n",
              "      <td>8.01</td>\n",
              "      <td>3.46</td>\n",
              "      <td>4.41</td>\n",
              "      <td>4.99</td>\n",
              "      <td>5.87</td>\n",
              "      <td>6.49</td>\n",
              "      <td>3.95</td>\n",
              "      <td>10.38</td>\n",
              "      <td>5.98</td>\n",
              "      <td>4.89</td>\n",
              "      <td>7.49</td>\n",
              "      <td>9.95</td>\n",
              "      <td>8.06</td>\n",
              "      <td>7.74</td>\n",
              "      <td>7.2</td>\n",
              "      <td>2.28</td>\n",
              "      <td>3.76</td>\n",
              "      <td>7.98</td>\n",
              "      <td>...</td>\n",
              "      <td>5.97</td>\n",
              "      <td>5.8</td>\n",
              "      <td>7.7</td>\n",
              "      <td>7</td>\n",
              "      <td>8.7</td>\n",
              "      <td>7</td>\n",
              "      <td>9.4</td>\n",
              "      <td>5.8</td>\n",
              "      <td>10</td>\n",
              "      <td>10</td>\n",
              "      <td>10</td>\n",
              "      <td>10</td>\n",
              "      <td>7.5</td>\n",
              "      <td>6.8</td>\n",
              "      <td>13.6</td>\n",
              "      <td>13.6</td>\n",
              "      <td>13.6</td>\n",
              "      <td>8.4</td>\n",
              "      <td>13.6</td>\n",
              "      <td>5.9</td>\n",
              "      <td>7.6</td>\n",
              "      <td>14</td>\n",
              "      <td>11.8</td>\n",
              "      <td>5.9</td>\n",
              "      <td>8.5</td>\n",
              "      <td>7.9</td>\n",
              "      <td>7.5</td>\n",
              "      <td>13.6</td>\n",
              "      <td>13.6</td>\n",
              "      <td>6.4</td>\n",
              "      <td>6.1</td>\n",
              "      <td>8.4</td>\n",
              "      <td>9.9</td>\n",
              "      <td>6.8</td>\n",
              "      <td>13.09</td>\n",
              "      <td>11.6</td>\n",
              "      <td>5.9</td>\n",
              "      <td>11</td>\n",
              "      <td>12.5</td>\n",
              "      <td>5.9</td>\n",
              "    </tr>\n",
              "    <tr>\n",
              "      <th>Kms_Driven</th>\n",
              "      <td>27000</td>\n",
              "      <td>43000</td>\n",
              "      <td>6900</td>\n",
              "      <td>5200</td>\n",
              "      <td>42450</td>\n",
              "      <td>2071</td>\n",
              "      <td>18796</td>\n",
              "      <td>33429</td>\n",
              "      <td>20273</td>\n",
              "      <td>42367</td>\n",
              "      <td>2135</td>\n",
              "      <td>51000</td>\n",
              "      <td>15000</td>\n",
              "      <td>26000</td>\n",
              "      <td>77427</td>\n",
              "      <td>43000</td>\n",
              "      <td>41678</td>\n",
              "      <td>43000</td>\n",
              "      <td>35500</td>\n",
              "      <td>41442</td>\n",
              "      <td>25000</td>\n",
              "      <td>2400</td>\n",
              "      <td>50000</td>\n",
              "      <td>45280</td>\n",
              "      <td>56879</td>\n",
              "      <td>20000</td>\n",
              "      <td>55138</td>\n",
              "      <td>16200</td>\n",
              "      <td>44542</td>\n",
              "      <td>45000</td>\n",
              "      <td>51439</td>\n",
              "      <td>54200</td>\n",
              "      <td>39000</td>\n",
              "      <td>45000</td>\n",
              "      <td>45000</td>\n",
              "      <td>49998</td>\n",
              "      <td>48767</td>\n",
              "      <td>127000</td>\n",
              "      <td>10079</td>\n",
              "      <td>62000</td>\n",
              "      <td>...</td>\n",
              "      <td>5600</td>\n",
              "      <td>40023</td>\n",
              "      <td>16002</td>\n",
              "      <td>40026</td>\n",
              "      <td>21200</td>\n",
              "      <td>35000</td>\n",
              "      <td>19434</td>\n",
              "      <td>19000</td>\n",
              "      <td>18828</td>\n",
              "      <td>69341</td>\n",
              "      <td>69562</td>\n",
              "      <td>27600</td>\n",
              "      <td>61203</td>\n",
              "      <td>16500</td>\n",
              "      <td>30753</td>\n",
              "      <td>24800</td>\n",
              "      <td>21780</td>\n",
              "      <td>4000</td>\n",
              "      <td>40126</td>\n",
              "      <td>14465</td>\n",
              "      <td>50456</td>\n",
              "      <td>63000</td>\n",
              "      <td>9010</td>\n",
              "      <td>9800</td>\n",
              "      <td>15059</td>\n",
              "      <td>28569</td>\n",
              "      <td>44000</td>\n",
              "      <td>34000</td>\n",
              "      <td>10980</td>\n",
              "      <td>19000</td>\n",
              "      <td>31427</td>\n",
              "      <td>12000</td>\n",
              "      <td>38000</td>\n",
              "      <td>33019</td>\n",
              "      <td>60076</td>\n",
              "      <td>33988</td>\n",
              "      <td>60000</td>\n",
              "      <td>87934</td>\n",
              "      <td>9000</td>\n",
              "      <td>5464</td>\n",
              "    </tr>\n",
              "    <tr>\n",
              "      <th>Fuel_Type</th>\n",
              "      <td>Petrol</td>\n",
              "      <td>Diesel</td>\n",
              "      <td>Petrol</td>\n",
              "      <td>Petrol</td>\n",
              "      <td>Diesel</td>\n",
              "      <td>Diesel</td>\n",
              "      <td>Petrol</td>\n",
              "      <td>Diesel</td>\n",
              "      <td>Diesel</td>\n",
              "      <td>Diesel</td>\n",
              "      <td>Petrol</td>\n",
              "      <td>Diesel</td>\n",
              "      <td>Petrol</td>\n",
              "      <td>Petrol</td>\n",
              "      <td>Petrol</td>\n",
              "      <td>Diesel</td>\n",
              "      <td>Diesel</td>\n",
              "      <td>Diesel</td>\n",
              "      <td>CNG</td>\n",
              "      <td>Petrol</td>\n",
              "      <td>Petrol</td>\n",
              "      <td>Petrol</td>\n",
              "      <td>Petrol</td>\n",
              "      <td>Petrol</td>\n",
              "      <td>Petrol</td>\n",
              "      <td>Petrol</td>\n",
              "      <td>Petrol</td>\n",
              "      <td>Petrol</td>\n",
              "      <td>Petrol</td>\n",
              "      <td>Diesel</td>\n",
              "      <td>Diesel</td>\n",
              "      <td>Petrol</td>\n",
              "      <td>Diesel</td>\n",
              "      <td>Diesel</td>\n",
              "      <td>Diesel</td>\n",
              "      <td>CNG</td>\n",
              "      <td>Petrol</td>\n",
              "      <td>Petrol</td>\n",
              "      <td>Petrol</td>\n",
              "      <td>Petrol</td>\n",
              "      <td>...</td>\n",
              "      <td>Petrol</td>\n",
              "      <td>Petrol</td>\n",
              "      <td>Petrol</td>\n",
              "      <td>Petrol</td>\n",
              "      <td>Petrol</td>\n",
              "      <td>Petrol</td>\n",
              "      <td>Diesel</td>\n",
              "      <td>Petrol</td>\n",
              "      <td>Petrol</td>\n",
              "      <td>Petrol</td>\n",
              "      <td>Petrol</td>\n",
              "      <td>Petrol</td>\n",
              "      <td>Petrol</td>\n",
              "      <td>Petrol</td>\n",
              "      <td>Petrol</td>\n",
              "      <td>Petrol</td>\n",
              "      <td>Petrol</td>\n",
              "      <td>Petrol</td>\n",
              "      <td>Petrol</td>\n",
              "      <td>Petrol</td>\n",
              "      <td>Petrol</td>\n",
              "      <td>Diesel</td>\n",
              "      <td>Petrol</td>\n",
              "      <td>Petrol</td>\n",
              "      <td>Petrol</td>\n",
              "      <td>Petrol</td>\n",
              "      <td>Petrol</td>\n",
              "      <td>Petrol</td>\n",
              "      <td>Petrol</td>\n",
              "      <td>Petrol</td>\n",
              "      <td>Petrol</td>\n",
              "      <td>Petrol</td>\n",
              "      <td>Petrol</td>\n",
              "      <td>Petrol</td>\n",
              "      <td>Diesel</td>\n",
              "      <td>Diesel</td>\n",
              "      <td>Petrol</td>\n",
              "      <td>Petrol</td>\n",
              "      <td>Diesel</td>\n",
              "      <td>Petrol</td>\n",
              "    </tr>\n",
              "    <tr>\n",
              "      <th>Seller_Type</th>\n",
              "      <td>Dealer</td>\n",
              "      <td>Dealer</td>\n",
              "      <td>Dealer</td>\n",
              "      <td>Dealer</td>\n",
              "      <td>Dealer</td>\n",
              "      <td>Dealer</td>\n",
              "      <td>Dealer</td>\n",
              "      <td>Dealer</td>\n",
              "      <td>Dealer</td>\n",
              "      <td>Dealer</td>\n",
              "      <td>Dealer</td>\n",
              "      <td>Dealer</td>\n",
              "      <td>Dealer</td>\n",
              "      <td>Dealer</td>\n",
              "      <td>Dealer</td>\n",
              "      <td>Dealer</td>\n",
              "      <td>Dealer</td>\n",
              "      <td>Dealer</td>\n",
              "      <td>Dealer</td>\n",
              "      <td>Dealer</td>\n",
              "      <td>Dealer</td>\n",
              "      <td>Dealer</td>\n",
              "      <td>Dealer</td>\n",
              "      <td>Dealer</td>\n",
              "      <td>Dealer</td>\n",
              "      <td>Dealer</td>\n",
              "      <td>Dealer</td>\n",
              "      <td>Individual</td>\n",
              "      <td>Dealer</td>\n",
              "      <td>Dealer</td>\n",
              "      <td>Dealer</td>\n",
              "      <td>Dealer</td>\n",
              "      <td>Dealer</td>\n",
              "      <td>Dealer</td>\n",
              "      <td>Dealer</td>\n",
              "      <td>Dealer</td>\n",
              "      <td>Dealer</td>\n",
              "      <td>Individual</td>\n",
              "      <td>Dealer</td>\n",
              "      <td>Dealer</td>\n",
              "      <td>...</td>\n",
              "      <td>Dealer</td>\n",
              "      <td>Dealer</td>\n",
              "      <td>Dealer</td>\n",
              "      <td>Dealer</td>\n",
              "      <td>Dealer</td>\n",
              "      <td>Dealer</td>\n",
              "      <td>Dealer</td>\n",
              "      <td>Dealer</td>\n",
              "      <td>Dealer</td>\n",
              "      <td>Dealer</td>\n",
              "      <td>Dealer</td>\n",
              "      <td>Dealer</td>\n",
              "      <td>Dealer</td>\n",
              "      <td>Dealer</td>\n",
              "      <td>Dealer</td>\n",
              "      <td>Dealer</td>\n",
              "      <td>Dealer</td>\n",
              "      <td>Dealer</td>\n",
              "      <td>Dealer</td>\n",
              "      <td>Dealer</td>\n",
              "      <td>Dealer</td>\n",
              "      <td>Dealer</td>\n",
              "      <td>Dealer</td>\n",
              "      <td>Dealer</td>\n",
              "      <td>Dealer</td>\n",
              "      <td>Dealer</td>\n",
              "      <td>Dealer</td>\n",
              "      <td>Dealer</td>\n",
              "      <td>Dealer</td>\n",
              "      <td>Dealer</td>\n",
              "      <td>Dealer</td>\n",
              "      <td>Dealer</td>\n",
              "      <td>Dealer</td>\n",
              "      <td>Dealer</td>\n",
              "      <td>Dealer</td>\n",
              "      <td>Dealer</td>\n",
              "      <td>Dealer</td>\n",
              "      <td>Dealer</td>\n",
              "      <td>Dealer</td>\n",
              "      <td>Dealer</td>\n",
              "    </tr>\n",
              "    <tr>\n",
              "      <th>Transmission</th>\n",
              "      <td>Manual</td>\n",
              "      <td>Manual</td>\n",
              "      <td>Manual</td>\n",
              "      <td>Manual</td>\n",
              "      <td>Manual</td>\n",
              "      <td>Manual</td>\n",
              "      <td>Manual</td>\n",
              "      <td>Manual</td>\n",
              "      <td>Manual</td>\n",
              "      <td>Manual</td>\n",
              "      <td>Manual</td>\n",
              "      <td>Manual</td>\n",
              "      <td>Automatic</td>\n",
              "      <td>Manual</td>\n",
              "      <td>Manual</td>\n",
              "      <td>Manual</td>\n",
              "      <td>Manual</td>\n",
              "      <td>Manual</td>\n",
              "      <td>Manual</td>\n",
              "      <td>Manual</td>\n",
              "      <td>Manual</td>\n",
              "      <td>Manual</td>\n",
              "      <td>Automatic</td>\n",
              "      <td>Manual</td>\n",
              "      <td>Manual</td>\n",
              "      <td>Manual</td>\n",
              "      <td>Manual</td>\n",
              "      <td>Manual</td>\n",
              "      <td>Manual</td>\n",
              "      <td>Manual</td>\n",
              "      <td>Manual</td>\n",
              "      <td>Manual</td>\n",
              "      <td>Manual</td>\n",
              "      <td>Manual</td>\n",
              "      <td>Manual</td>\n",
              "      <td>Manual</td>\n",
              "      <td>Manual</td>\n",
              "      <td>Manual</td>\n",
              "      <td>Manual</td>\n",
              "      <td>Manual</td>\n",
              "      <td>...</td>\n",
              "      <td>Manual</td>\n",
              "      <td>Manual</td>\n",
              "      <td>Manual</td>\n",
              "      <td>Manual</td>\n",
              "      <td>Manual</td>\n",
              "      <td>Manual</td>\n",
              "      <td>Manual</td>\n",
              "      <td>Manual</td>\n",
              "      <td>Manual</td>\n",
              "      <td>Manual</td>\n",
              "      <td>Manual</td>\n",
              "      <td>Manual</td>\n",
              "      <td>Manual</td>\n",
              "      <td>Manual</td>\n",
              "      <td>Automatic</td>\n",
              "      <td>Manual</td>\n",
              "      <td>Manual</td>\n",
              "      <td>Manual</td>\n",
              "      <td>Manual</td>\n",
              "      <td>Manual</td>\n",
              "      <td>Manual</td>\n",
              "      <td>Manual</td>\n",
              "      <td>Manual</td>\n",
              "      <td>Manual</td>\n",
              "      <td>Automatic</td>\n",
              "      <td>Manual</td>\n",
              "      <td>Automatic</td>\n",
              "      <td>Manual</td>\n",
              "      <td>Manual</td>\n",
              "      <td>Manual</td>\n",
              "      <td>Manual</td>\n",
              "      <td>Manual</td>\n",
              "      <td>Manual</td>\n",
              "      <td>Manual</td>\n",
              "      <td>Manual</td>\n",
              "      <td>Manual</td>\n",
              "      <td>Manual</td>\n",
              "      <td>Manual</td>\n",
              "      <td>Manual</td>\n",
              "      <td>Manual</td>\n",
              "    </tr>\n",
              "    <tr>\n",
              "      <th>Owner</th>\n",
              "      <td>0</td>\n",
              "      <td>0</td>\n",
              "      <td>0</td>\n",
              "      <td>0</td>\n",
              "      <td>0</td>\n",
              "      <td>0</td>\n",
              "      <td>0</td>\n",
              "      <td>0</td>\n",
              "      <td>0</td>\n",
              "      <td>0</td>\n",
              "      <td>0</td>\n",
              "      <td>0</td>\n",
              "      <td>0</td>\n",
              "      <td>0</td>\n",
              "      <td>0</td>\n",
              "      <td>0</td>\n",
              "      <td>0</td>\n",
              "      <td>0</td>\n",
              "      <td>0</td>\n",
              "      <td>0</td>\n",
              "      <td>0</td>\n",
              "      <td>0</td>\n",
              "      <td>0</td>\n",
              "      <td>0</td>\n",
              "      <td>0</td>\n",
              "      <td>0</td>\n",
              "      <td>0</td>\n",
              "      <td>0</td>\n",
              "      <td>0</td>\n",
              "      <td>0</td>\n",
              "      <td>0</td>\n",
              "      <td>0</td>\n",
              "      <td>0</td>\n",
              "      <td>0</td>\n",
              "      <td>0</td>\n",
              "      <td>0</td>\n",
              "      <td>0</td>\n",
              "      <td>0</td>\n",
              "      <td>0</td>\n",
              "      <td>0</td>\n",
              "      <td>...</td>\n",
              "      <td>0</td>\n",
              "      <td>0</td>\n",
              "      <td>0</td>\n",
              "      <td>0</td>\n",
              "      <td>0</td>\n",
              "      <td>0</td>\n",
              "      <td>0</td>\n",
              "      <td>0</td>\n",
              "      <td>0</td>\n",
              "      <td>0</td>\n",
              "      <td>0</td>\n",
              "      <td>0</td>\n",
              "      <td>0</td>\n",
              "      <td>0</td>\n",
              "      <td>0</td>\n",
              "      <td>0</td>\n",
              "      <td>0</td>\n",
              "      <td>0</td>\n",
              "      <td>0</td>\n",
              "      <td>0</td>\n",
              "      <td>0</td>\n",
              "      <td>0</td>\n",
              "      <td>0</td>\n",
              "      <td>0</td>\n",
              "      <td>0</td>\n",
              "      <td>0</td>\n",
              "      <td>0</td>\n",
              "      <td>0</td>\n",
              "      <td>0</td>\n",
              "      <td>0</td>\n",
              "      <td>0</td>\n",
              "      <td>0</td>\n",
              "      <td>0</td>\n",
              "      <td>0</td>\n",
              "      <td>0</td>\n",
              "      <td>0</td>\n",
              "      <td>0</td>\n",
              "      <td>0</td>\n",
              "      <td>0</td>\n",
              "      <td>0</td>\n",
              "    </tr>\n",
              "  </tbody>\n",
              "</table>\n",
              "<p>9 rows × 301 columns</p>\n",
              "</div>"
            ],
            "text/plain": [
              "                  0       1       2        3    ...     297     298     299     300\n",
              "Car_Name         ritz     sx4    ciaz  wagon r  ...    brio    city    city    brio\n",
              "Year             2014    2013    2017     2011  ...    2015    2009    2017    2016\n",
              "Selling_Price    3.35    4.75    7.25     2.85  ...       4    3.35    11.5     5.3\n",
              "Present_Price    5.59    9.54    9.85     4.15  ...     5.9      11    12.5     5.9\n",
              "Kms_Driven      27000   43000    6900     5200  ...   60000   87934    9000    5464\n",
              "Fuel_Type      Petrol  Diesel  Petrol   Petrol  ...  Petrol  Petrol  Diesel  Petrol\n",
              "Seller_Type    Dealer  Dealer  Dealer   Dealer  ...  Dealer  Dealer  Dealer  Dealer\n",
              "Transmission   Manual  Manual  Manual   Manual  ...  Manual  Manual  Manual  Manual\n",
              "Owner               0       0       0        0  ...       0       0       0       0\n",
              "\n",
              "[9 rows x 301 columns]"
            ]
          },
          "metadata": {},
          "execution_count": 97
        }
      ]
    },
    {
      "cell_type": "code",
      "metadata": {
        "id": "GldIBda3PbEt",
        "outputId": "af97d0ce-2547-4b11-fb69-c3113725bb68",
        "colab": {
          "base_uri": "https://localhost:8080/"
        }
      },
      "source": [
        "df.Fuel_Type.value_counts()"
      ],
      "execution_count": 98,
      "outputs": [
        {
          "output_type": "execute_result",
          "data": {
            "text/plain": [
              "Petrol    239\n",
              "Diesel     60\n",
              "CNG         2\n",
              "Name: Fuel_Type, dtype: int64"
            ]
          },
          "metadata": {},
          "execution_count": 98
        }
      ]
    },
    {
      "cell_type": "code",
      "metadata": {
        "id": "5MEYrDTMNxIt",
        "outputId": "8d008f72-5c3c-446c-94b2-d5db0950b866",
        "colab": {
          "base_uri": "https://localhost:8080/",
          "height": 300
        }
      },
      "source": [
        "df.describe()"
      ],
      "execution_count": 99,
      "outputs": [
        {
          "output_type": "execute_result",
          "data": {
            "text/html": [
              "<div>\n",
              "<style scoped>\n",
              "    .dataframe tbody tr th:only-of-type {\n",
              "        vertical-align: middle;\n",
              "    }\n",
              "\n",
              "    .dataframe tbody tr th {\n",
              "        vertical-align: top;\n",
              "    }\n",
              "\n",
              "    .dataframe thead th {\n",
              "        text-align: right;\n",
              "    }\n",
              "</style>\n",
              "<table border=\"1\" class=\"dataframe\">\n",
              "  <thead>\n",
              "    <tr style=\"text-align: right;\">\n",
              "      <th></th>\n",
              "      <th>Year</th>\n",
              "      <th>Selling_Price</th>\n",
              "      <th>Present_Price</th>\n",
              "      <th>Kms_Driven</th>\n",
              "      <th>Owner</th>\n",
              "    </tr>\n",
              "  </thead>\n",
              "  <tbody>\n",
              "    <tr>\n",
              "      <th>count</th>\n",
              "      <td>301.000000</td>\n",
              "      <td>301.000000</td>\n",
              "      <td>301.000000</td>\n",
              "      <td>301.000000</td>\n",
              "      <td>301.000000</td>\n",
              "    </tr>\n",
              "    <tr>\n",
              "      <th>mean</th>\n",
              "      <td>2013.627907</td>\n",
              "      <td>4.661296</td>\n",
              "      <td>7.628472</td>\n",
              "      <td>36947.205980</td>\n",
              "      <td>0.043189</td>\n",
              "    </tr>\n",
              "    <tr>\n",
              "      <th>std</th>\n",
              "      <td>2.891554</td>\n",
              "      <td>5.082812</td>\n",
              "      <td>8.644115</td>\n",
              "      <td>38886.883882</td>\n",
              "      <td>0.247915</td>\n",
              "    </tr>\n",
              "    <tr>\n",
              "      <th>min</th>\n",
              "      <td>2003.000000</td>\n",
              "      <td>0.100000</td>\n",
              "      <td>0.320000</td>\n",
              "      <td>500.000000</td>\n",
              "      <td>0.000000</td>\n",
              "    </tr>\n",
              "    <tr>\n",
              "      <th>25%</th>\n",
              "      <td>2012.000000</td>\n",
              "      <td>0.900000</td>\n",
              "      <td>1.200000</td>\n",
              "      <td>15000.000000</td>\n",
              "      <td>0.000000</td>\n",
              "    </tr>\n",
              "    <tr>\n",
              "      <th>50%</th>\n",
              "      <td>2014.000000</td>\n",
              "      <td>3.600000</td>\n",
              "      <td>6.400000</td>\n",
              "      <td>32000.000000</td>\n",
              "      <td>0.000000</td>\n",
              "    </tr>\n",
              "    <tr>\n",
              "      <th>75%</th>\n",
              "      <td>2016.000000</td>\n",
              "      <td>6.000000</td>\n",
              "      <td>9.900000</td>\n",
              "      <td>48767.000000</td>\n",
              "      <td>0.000000</td>\n",
              "    </tr>\n",
              "    <tr>\n",
              "      <th>max</th>\n",
              "      <td>2018.000000</td>\n",
              "      <td>35.000000</td>\n",
              "      <td>92.600000</td>\n",
              "      <td>500000.000000</td>\n",
              "      <td>3.000000</td>\n",
              "    </tr>\n",
              "  </tbody>\n",
              "</table>\n",
              "</div>"
            ],
            "text/plain": [
              "              Year  Selling_Price  Present_Price     Kms_Driven       Owner\n",
              "count   301.000000     301.000000     301.000000     301.000000  301.000000\n",
              "mean   2013.627907       4.661296       7.628472   36947.205980    0.043189\n",
              "std       2.891554       5.082812       8.644115   38886.883882    0.247915\n",
              "min    2003.000000       0.100000       0.320000     500.000000    0.000000\n",
              "25%    2012.000000       0.900000       1.200000   15000.000000    0.000000\n",
              "50%    2014.000000       3.600000       6.400000   32000.000000    0.000000\n",
              "75%    2016.000000       6.000000       9.900000   48767.000000    0.000000\n",
              "max    2018.000000      35.000000      92.600000  500000.000000    3.000000"
            ]
          },
          "metadata": {},
          "execution_count": 99
        }
      ]
    },
    {
      "cell_type": "code",
      "metadata": {
        "id": "UAdDn_LYN1Ns",
        "outputId": "6f4b84e3-2c6c-455f-95ee-3b60c25da9ac",
        "colab": {
          "base_uri": "https://localhost:8080/"
        }
      },
      "source": [
        "df.info()"
      ],
      "execution_count": 100,
      "outputs": [
        {
          "output_type": "stream",
          "name": "stdout",
          "text": [
            "<class 'pandas.core.frame.DataFrame'>\n",
            "RangeIndex: 301 entries, 0 to 300\n",
            "Data columns (total 9 columns):\n",
            " #   Column         Non-Null Count  Dtype  \n",
            "---  ------         --------------  -----  \n",
            " 0   Car_Name       301 non-null    object \n",
            " 1   Year           301 non-null    int64  \n",
            " 2   Selling_Price  301 non-null    float64\n",
            " 3   Present_Price  301 non-null    float64\n",
            " 4   Kms_Driven     301 non-null    int64  \n",
            " 5   Fuel_Type      301 non-null    object \n",
            " 6   Seller_Type    301 non-null    object \n",
            " 7   Transmission   301 non-null    object \n",
            " 8   Owner          301 non-null    int64  \n",
            "dtypes: float64(2), int64(3), object(4)\n",
            "memory usage: 21.3+ KB\n"
          ]
        }
      ]
    },
    {
      "cell_type": "code",
      "metadata": {
        "id": "KK562IWlN6BK",
        "outputId": "88d9829a-d2b4-4883-e2d0-ffb03eedab2b",
        "colab": {
          "base_uri": "https://localhost:8080/",
          "height": 379
        }
      },
      "source": [
        "sns.heatmap(df.corr(),annot = True);"
      ],
      "execution_count": 101,
      "outputs": [
        {
          "output_type": "display_data",
          "data": {
            "image/png": "[encoded data removed]",
            "text/plain": [
              "<Figure size 720x432 with 2 Axes>"
            ]
          },
          "metadata": {
            "needs_background": "light"
          }
        }
      ]
    },
    {
      "cell_type": "code",
      "metadata": {
        "id": "SldaaNHFNwhe"
      },
      "source": [
        ""
      ],
      "execution_count": 101,
      "outputs": []
    },
    {
      "cell_type": "code",
      "metadata": {
        "id": "zoySlXabbV9B"
      },
      "source": [
        ""
      ],
      "execution_count": 101,
      "outputs": []
    },
    {
      "cell_type": "markdown",
      "metadata": {
        "id": "12PKntblbV9C"
      },
      "source": [
        "# Feature Engineering"
      ]
    },
    {
      "cell_type": "markdown",
      "metadata": {
        "id": "P49wP0afbV9E"
      },
      "source": [
        "<ul>Fuel_Type feature:\n",
        "    <li>Fuel is Petrol if Fuel_type_diesel = 0 ,Fuel_Type_Petrol = 1</li>\n",
        "    <li>Fuel is Diesel if Fuel_type_diesel = 1 ,Fuel_Type_Petrol = 0</li>\n",
        "    <li>Fuel is cng if Fuel_type_diesel = 0 ,Fuel_Type_Petrol = 0</li>\n",
        "   </ul>\n",
        "<ul>Transmission feature:\n",
        "    <li>transmission is manual if Transmission_Manual = 1</li> \n",
        "    <li>transmission is automatic if Transmission_Manual = 0</li></ul>\n",
        "<ul>Seller_Type feature:\n",
        "    <li>Seller_Type is Individual if Seller_Type_Individual = 1 </li> \n",
        "    <li>Seller_Type is dealer if Seller_Type_Individual = 0</li> </ul>\n",
        "    \n"
      ]
    },
    {
      "cell_type": "markdown",
      "metadata": {
        "id": "Pe9yr6oCbV9I"
      },
      "source": [
        "### Features and target variable"
      ]
    },
    {
      "cell_type": "code",
      "metadata": {
        "id": "7b_SIXkUTvC-",
        "outputId": "8ea8a4f2-d72f-45d0-8885-b9e12f1e70dc",
        "colab": {
          "base_uri": "https://localhost:8080/"
        }
      },
      "source": [
        "df.Fuel_Type"
      ],
      "execution_count": 102,
      "outputs": [
        {
          "output_type": "execute_result",
          "data": {
            "text/plain": [
              "0      Petrol\n",
              "1      Diesel\n",
              "2      Petrol\n",
              "3      Petrol\n",
              "4      Diesel\n",
              "        ...  \n",
              "296    Diesel\n",
              "297    Petrol\n",
              "298    Petrol\n",
              "299    Diesel\n",
              "300    Petrol\n",
              "Name: Fuel_Type, Length: 301, dtype: object"
            ]
          },
          "metadata": {},
          "execution_count": 102
        }
      ]
    },
    {
      "cell_type": "code",
      "metadata": {
        "id": "OMnKPR41bV9K",
        "outputId": "3053f64f-7490-4e99-ce35-cc734b504b4c",
        "colab": {
          "base_uri": "https://localhost:8080/",
          "height": 424
        }
      },
      "source": [
        "pd.get_dummies(df.Fuel_Type)"
      ],
      "execution_count": 103,
      "outputs": [
        {
          "output_type": "execute_result",
          "data": {
            "text/html": [
              "<div>\n",
              "<style scoped>\n",
              "    .dataframe tbody tr th:only-of-type {\n",
              "        vertical-align: middle;\n",
              "    }\n",
              "\n",
              "    .dataframe tbody tr th {\n",
              "        vertical-align: top;\n",
              "    }\n",
              "\n",
              "    .dataframe thead th {\n",
              "        text-align: right;\n",
              "    }\n",
              "</style>\n",
              "<table border=\"1\" class=\"dataframe\">\n",
              "  <thead>\n",
              "    <tr style=\"text-align: right;\">\n",
              "      <th></th>\n",
              "      <th>CNG</th>\n",
              "      <th>Diesel</th>\n",
              "      <th>Petrol</th>\n",
              "    </tr>\n",
              "  </thead>\n",
              "  <tbody>\n",
              "    <tr>\n",
              "      <th>0</th>\n",
              "      <td>0</td>\n",
              "      <td>0</td>\n",
              "      <td>1</td>\n",
              "    </tr>\n",
              "    <tr>\n",
              "      <th>1</th>\n",
              "      <td>0</td>\n",
              "      <td>1</td>\n",
              "      <td>0</td>\n",
              "    </tr>\n",
              "    <tr>\n",
              "      <th>2</th>\n",
              "      <td>0</td>\n",
              "      <td>0</td>\n",
              "      <td>1</td>\n",
              "    </tr>\n",
              "    <tr>\n",
              "      <th>3</th>\n",
              "      <td>0</td>\n",
              "      <td>0</td>\n",
              "      <td>1</td>\n",
              "    </tr>\n",
              "    <tr>\n",
              "      <th>4</th>\n",
              "      <td>0</td>\n",
              "      <td>1</td>\n",
              "      <td>0</td>\n",
              "    </tr>\n",
              "    <tr>\n",
              "      <th>...</th>\n",
              "      <td>...</td>\n",
              "      <td>...</td>\n",
              "      <td>...</td>\n",
              "    </tr>\n",
              "    <tr>\n",
              "      <th>296</th>\n",
              "      <td>0</td>\n",
              "      <td>1</td>\n",
              "      <td>0</td>\n",
              "    </tr>\n",
              "    <tr>\n",
              "      <th>297</th>\n",
              "      <td>0</td>\n",
              "      <td>0</td>\n",
              "      <td>1</td>\n",
              "    </tr>\n",
              "    <tr>\n",
              "      <th>298</th>\n",
              "      <td>0</td>\n",
              "      <td>0</td>\n",
              "      <td>1</td>\n",
              "    </tr>\n",
              "    <tr>\n",
              "      <th>299</th>\n",
              "      <td>0</td>\n",
              "      <td>1</td>\n",
              "      <td>0</td>\n",
              "    </tr>\n",
              "    <tr>\n",
              "      <th>300</th>\n",
              "      <td>0</td>\n",
              "      <td>0</td>\n",
              "      <td>1</td>\n",
              "    </tr>\n",
              "  </tbody>\n",
              "</table>\n",
              "<p>301 rows × 3 columns</p>\n",
              "</div>"
            ],
            "text/plain": [
              "     CNG  Diesel  Petrol\n",
              "0      0       0       1\n",
              "1      0       1       0\n",
              "2      0       0       1\n",
              "3      0       0       1\n",
              "4      0       1       0\n",
              "..   ...     ...     ...\n",
              "296    0       1       0\n",
              "297    0       0       1\n",
              "298    0       0       1\n",
              "299    0       1       0\n",
              "300    0       0       1\n",
              "\n",
              "[301 rows x 3 columns]"
            ]
          },
          "metadata": {},
          "execution_count": 103
        }
      ]
    },
    {
      "cell_type": "code",
      "metadata": {
        "id": "2kpm82_XUFxd"
      },
      "source": [
        "df = pd.concat([df,pd.get_dummies(df.Fuel_Type)],axis=1)\n"
      ],
      "execution_count": 104,
      "outputs": []
    },
    {
      "cell_type": "code",
      "metadata": {
        "id": "2BcAgDuTUF1G",
        "outputId": "3af03e11-7687-4cac-ef60-3ac317eaaa72",
        "colab": {
          "base_uri": "https://localhost:8080/"
        }
      },
      "source": [
        "df.Fuel_Type"
      ],
      "execution_count": 105,
      "outputs": [
        {
          "output_type": "execute_result",
          "data": {
            "text/plain": [
              "0      Petrol\n",
              "1      Diesel\n",
              "2      Petrol\n",
              "3      Petrol\n",
              "4      Diesel\n",
              "        ...  \n",
              "296    Diesel\n",
              "297    Petrol\n",
              "298    Petrol\n",
              "299    Diesel\n",
              "300    Petrol\n",
              "Name: Fuel_Type, Length: 301, dtype: object"
            ]
          },
          "metadata": {},
          "execution_count": 105
        }
      ]
    },
    {
      "cell_type": "code",
      "metadata": {
        "id": "2QEbI4QBUUEi"
      },
      "source": [
        "df.drop(['Fuel_Type','CNG'],axis=1,inplace=True)"
      ],
      "execution_count": 106,
      "outputs": []
    },
    {
      "cell_type": "code",
      "metadata": {
        "id": "yWVjV8QJUUHx",
        "outputId": "bcd96eb4-74b1-4e49-b040-d7762f88398d",
        "colab": {
          "base_uri": "https://localhost:8080/"
        }
      },
      "source": [
        "df.columns"
      ],
      "execution_count": 107,
      "outputs": [
        {
          "output_type": "execute_result",
          "data": {
            "text/plain": [
              "Index(['Car_Name', 'Year', 'Selling_Price', 'Present_Price', 'Kms_Driven',\n",
              "       'Seller_Type', 'Transmission', 'Owner', 'Diesel', 'Petrol'],\n",
              "      dtype='object')"
            ]
          },
          "metadata": {},
          "execution_count": 107
        }
      ]
    },
    {
      "cell_type": "code",
      "metadata": {
        "id": "9V1U85n7W0VF",
        "outputId": "bec9288e-73b5-4b2a-a8cd-c94edb0c2d2e",
        "colab": {
          "base_uri": "https://localhost:8080/"
        }
      },
      "source": [
        "df.Transmission.value_counts()"
      ],
      "execution_count": 108,
      "outputs": [
        {
          "output_type": "execute_result",
          "data": {
            "text/plain": [
              "Manual       261\n",
              "Automatic     40\n",
              "Name: Transmission, dtype: int64"
            ]
          },
          "metadata": {},
          "execution_count": 108
        }
      ]
    },
    {
      "cell_type": "code",
      "metadata": {
        "id": "RWzIKGGfXsQO"
      },
      "source": [
        "df.Transmission = df.Transmission.map(lambda x: 0 if x == 'Automatic' else  1)"
      ],
      "execution_count": 109,
      "outputs": []
    },
    {
      "cell_type": "code",
      "metadata": {
        "id": "b2jDgEVLX2AN",
        "outputId": "beea1076-07d2-49fd-9de3-50342590c38d",
        "colab": {
          "base_uri": "https://localhost:8080/"
        }
      },
      "source": [
        "df.Transmission.unique()"
      ],
      "execution_count": 110,
      "outputs": [
        {
          "output_type": "execute_result",
          "data": {
            "text/plain": [
              "array([1, 0])"
            ]
          },
          "metadata": {},
          "execution_count": 110
        }
      ]
    },
    {
      "cell_type": "code",
      "metadata": {
        "id": "2JgLPczJX2DE",
        "outputId": "b1fd59e6-8f9f-418c-ba4f-ef7febd2510f",
        "colab": {
          "base_uri": "https://localhost:8080/"
        }
      },
      "source": [
        "df.Seller_Type.value_counts()"
      ],
      "execution_count": 111,
      "outputs": [
        {
          "output_type": "execute_result",
          "data": {
            "text/plain": [
              "Dealer        195\n",
              "Individual    106\n",
              "Name: Seller_Type, dtype: int64"
            ]
          },
          "metadata": {},
          "execution_count": 111
        }
      ]
    },
    {
      "cell_type": "code",
      "metadata": {
        "id": "VW4LMP_-X2GR"
      },
      "source": [
        "df = df.drop(\"Seller_Type\",axis=1)"
      ],
      "execution_count": 112,
      "outputs": []
    },
    {
      "cell_type": "code",
      "metadata": {
        "id": "FTgw6TI7X2JA",
        "outputId": "f1aade63-4cbd-4388-f39d-5d87e9092a87",
        "colab": {
          "base_uri": "https://localhost:8080/"
        }
      },
      "source": [
        "df.columns"
      ],
      "execution_count": 113,
      "outputs": [
        {
          "output_type": "execute_result",
          "data": {
            "text/plain": [
              "Index(['Car_Name', 'Year', 'Selling_Price', 'Present_Price', 'Kms_Driven',\n",
              "       'Transmission', 'Owner', 'Diesel', 'Petrol'],\n",
              "      dtype='object')"
            ]
          },
          "metadata": {},
          "execution_count": 113
        }
      ]
    },
    {
      "cell_type": "code",
      "metadata": {
        "id": "uhGOo_YGZxK0",
        "outputId": "28119581-8de4-4049-e4d7-6aa43bc0ddfb",
        "colab": {
          "base_uri": "https://localhost:8080/"
        }
      },
      "source": [
        "df.Owner.value_counts()"
      ],
      "execution_count": 114,
      "outputs": [
        {
          "output_type": "execute_result",
          "data": {
            "text/plain": [
              "0    290\n",
              "1     10\n",
              "3      1\n",
              "Name: Owner, dtype: int64"
            ]
          },
          "metadata": {},
          "execution_count": 114
        }
      ]
    },
    {
      "cell_type": "code",
      "metadata": {
        "id": "1hnnfbC0abVi",
        "outputId": "1a643378-5d7a-44ed-b5ef-72b58e03442c",
        "colab": {
          "base_uri": "https://localhost:8080/"
        }
      },
      "source": [
        "df.Owner.value_counts().dtype"
      ],
      "execution_count": 115,
      "outputs": [
        {
          "output_type": "execute_result",
          "data": {
            "text/plain": [
              "dtype('int64')"
            ]
          },
          "metadata": {},
          "execution_count": 115
        }
      ]
    },
    {
      "cell_type": "code",
      "metadata": {
        "id": "RQlq4mg-ZxRo"
      },
      "source": [
        "df.Owner = df.Owner.map(lambda x: 0 if x == 1 or 3 else  1)"
      ],
      "execution_count": 116,
      "outputs": []
    },
    {
      "cell_type": "code",
      "metadata": {
        "id": "gkFItp1UamDT",
        "outputId": "bbfdda8c-857f-4836-9a62-a7bdb7686da1",
        "colab": {
          "base_uri": "https://localhost:8080/"
        }
      },
      "source": [
        "df.Owner.value_counts()"
      ],
      "execution_count": 117,
      "outputs": [
        {
          "output_type": "execute_result",
          "data": {
            "text/plain": [
              "0    301\n",
              "Name: Owner, dtype: int64"
            ]
          },
          "metadata": {},
          "execution_count": 117
        }
      ]
    },
    {
      "cell_type": "markdown",
      "metadata": {
        "id": "IxhZbAYsbV9L"
      },
      "source": [
        "### Splitting data into training and testing"
      ]
    },
    {
      "cell_type": "code",
      "metadata": {
        "id": "aS1EZ-6bbV9N"
      },
      "source": [
        ""
      ],
      "execution_count": null,
      "outputs": []
    },
    {
      "cell_type": "markdown",
      "metadata": {
        "id": "KMJ-3iGxbV9O"
      },
      "source": [
        "##  Model Building (Linear Regression)"
      ]
    },
    {
      "cell_type": "code",
      "metadata": {
        "id": "VEOdF27LbV9P"
      },
      "source": [
        ""
      ],
      "execution_count": null,
      "outputs": []
    },
    {
      "cell_type": "markdown",
      "metadata": {
        "id": "6T7pkytsbV9Q"
      },
      "source": [
        "# Interpret the model"
      ]
    },
    {
      "cell_type": "code",
      "metadata": {
        "id": "TS-KF0JtbV9R"
      },
      "source": [
        ""
      ],
      "execution_count": null,
      "outputs": []
    },
    {
      "cell_type": "markdown",
      "metadata": {
        "id": "Xf8mmQdSbV9R"
      },
      "source": [
        "# Model Evaluation"
      ]
    },
    {
      "cell_type": "code",
      "metadata": {
        "id": "cZTXxOlxbV9T"
      },
      "source": [
        ""
      ],
      "execution_count": null,
      "outputs": []
    },
    {
      "cell_type": "markdown",
      "metadata": {
        "id": "ngfv0b5vbnO6"
      },
      "source": [
        "# Regularization"
      ]
    },
    {
      "cell_type": "markdown",
      "metadata": {
        "id": "PbnRHneJbV9T"
      },
      "source": [
        "# Ridge"
      ]
    },
    {
      "cell_type": "code",
      "metadata": {
        "id": "sLbDL68AbV9V"
      },
      "source": [
        ""
      ],
      "execution_count": null,
      "outputs": []
    },
    {
      "cell_type": "markdown",
      "metadata": {
        "id": "B_T57TpNbV9V"
      },
      "source": [
        "# Lasso"
      ]
    },
    {
      "cell_type": "code",
      "metadata": {
        "id": "MBAiMxBAbV9W"
      },
      "source": [
        ""
      ],
      "execution_count": null,
      "outputs": []
    },
    {
      "cell_type": "markdown",
      "metadata": {
        "id": "26QEobIEbV9X"
      },
      "source": [
        "## Elastic-Net "
      ]
    },
    {
      "cell_type": "code",
      "metadata": {
        "id": "hIgltF9YbV9Y"
      },
      "source": [
        ""
      ],
      "execution_count": null,
      "outputs": []
    }
  ]
}